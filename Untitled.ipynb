{
 "cells": [
  {
   "cell_type": "markdown",
   "id": "273aadae-1b5d-43fd-9136-c381f4c839ab",
   "metadata": {},
   "source": [
    "# TODO\n",
    "\n",
    "data structures for execution events: end of loan, when bonds mature, when you can retrieve from a flow(give Flow a `unlock at` attribute)\n",
    "- more complex: predict new jobs/incomes at N years, \n",
    "    - heuristics for stock market ('worst case') with little hover i to explain reasoning\n",
    "issue: granularity mismatch between biweekly income and monthly payments, since 52 weeks in a year but weeks overlap within months\n",
    "\n",
    "## Initializing\n",
    "Innovative 'dictionary building' like UI:\n",
    "- type in category and it will choose most similar existing one (e.g., car)\n",
    "\n",
    "## Planning your future\n",
    "- enable/disable different potential loans (e.g, car with different models and prices)"
   ]
  },
  {
   "cell_type": "code",
   "execution_count": 84,
   "id": "fdc0e801-d100-4e9c-8339-d6ccdf5898c4",
   "metadata": {},
   "outputs": [
    {
     "data": {
      "text/plain": [
       "200282.46324686814"
      ]
     },
     "execution_count": 84,
     "metadata": {},
     "output_type": "execute_result"
    }
   ],
   "source": [
    "import numpy as np\n",
    "import matplotlib.pyplot as plt\n",
    "\n",
    "\n",
    "class Loan:\n",
    "    def __init__(self, price, apr, down, months, monthly):\n",
    "        self.apr = apr\n",
    "        self.down = down\n",
    "        self.months = months\n",
    "        self.monthly = monthly\n",
    "        \n",
    "    def get_monthly_loan(self):\n",
    "        return self.monthly*(1+self.apr)\n",
    "    \n",
    "    def price_after(self, amount, window='years'):\n",
    "        total = lambda t: self.get_monthly_loan() * t + self.down\n",
    "        if amount == 'all':\n",
    "            return total(self.months)\n",
    "        \n",
    "        if window == 'years':\n",
    "            return total(amount*12)\n",
    "        \n",
    "        if window == 'months':\n",
    "            return total(amount)\n",
    "        \n",
    "\n",
    "class AllFlow:\n",
    "    \"\"\"\n",
    "    attributes:\n",
    "        monthly_income: num\n",
    "        # TODO: make below lists of Flow and Loan objects (or debit/credit?)\n",
    "        credits (dict): monthly flows on top of income like {'adbiz': 1000}\n",
    "        debits         : monhtly loans\n",
    "        \n",
    "    TODO: general tax estimates\n",
    "    \"\"\"\n",
    "    def __init__(self, savings_t0, index_t0, biweekly_income, credits={}, debits={}):\n",
    "        self.savings_t0 = savings_t0\n",
    "        self.index_t0 = index_t0\n",
    "        self.biweekly_income = biweekly_income #post tax\n",
    "        self.credits = credits\n",
    "        self.debits = debits\n",
    "        \n",
    "        # in init can also define projected annualized averages for certain stocks\n",
    "        self.haa = 11.88/100 # 1957 to 2021 historic annualized average\n",
    "        self.yearly_tax = 2918.91  # TODO make this calculated\n",
    "        \n",
    "    def index_after(self, amount, window='years'):\n",
    "        if window == 'years':\n",
    "            \n",
    "            return self.index_t0 * (1 + self.haa)**amount\n",
    "    \n",
    "    def net_worth_at(self, amount, window='years'):\n",
    "        \"\"\"TODO: - savings plan \n",
    "                 - should separate debits and credits\"\"\"\n",
    "        if window == 'years':\n",
    "            return self.savings_t0                         +  \\\n",
    "                   self.index_after(amount, window)        +  \\\n",
    "                   self.biweekly_income*27*amount          -  \\\n",
    "                   sum(self.debits.values()) * 12 * amount\n",
    "                   \n",
    "\n",
    "car = Loan(price=31977, apr=6.49/100, down=10000, months=60, monthly=429)\n",
    "debits = {'car':car.get_monthly_loan(),\n",
    "          'rent': 1020,\n",
    "          'Gas':120,\n",
    "          'Food': 250,\n",
    "          'Investing': 220,\n",
    "          'Ads/business': 100,\n",
    "          'Subscriptions': 15,\n",
    "          'Recreational': 50,\n",
    "          'Other (repairs etc)': 75,\n",
    "          }\n",
    "me = AllFlow(savings_t0=11000+7397-car.down+8000, index_t0=44148.66, biweekly_income=2279.12, debits=debits)\n",
    "me.biweekly_income*27\n",
    "\n",
    "me.net_worth_at(3.5)"
   ]
  }
 ],
 "metadata": {
  "kernelspec": {
   "display_name": "Python 3 (ipykernel)",
   "language": "python",
   "name": "python3"
  },
  "language_info": {
   "codemirror_mode": {
    "name": "ipython",
    "version": 3
   },
   "file_extension": ".py",
   "mimetype": "text/x-python",
   "name": "python",
   "nbconvert_exporter": "python",
   "pygments_lexer": "ipython3",
   "version": "3.9.13"
  }
 },
 "nbformat": 4,
 "nbformat_minor": 5
}
